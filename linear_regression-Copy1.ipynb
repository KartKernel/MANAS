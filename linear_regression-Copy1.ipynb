{
 "cells": [
  {
   "cell_type": "code",
   "execution_count": 1,
   "id": "b9de91cf",
   "metadata": {},
   "outputs": [
    {
     "name": "stdout",
     "output_type": "stream",
     "text": [
      "the parameters of the hypothesis are : [9.65265664 3.55780756 0.56007841]\n"
     ]
    },
    {
     "data": {
      "image/png": "[encoded data removed]",
      "text/plain": [
       "<Figure size 432x288 with 1 Axes>"
      ]
     },
     "metadata": {
      "needs_background": "light"
     },
     "output_type": "display_data"
    }
   ],
   "source": [
    "import numpy as np\n",
    "import pandas as pd\n",
    "import matplotlib.pyplot as pp\n",
    "\n",
    "data_file = pd.read_csv('C:\\AllDesktop\\Prog\\python\\MANAS\\DataSheets\\linear_regression_dataset.csv')\n",
    "\n",
    "x = data_file.iloc[0:, 3:5]\n",
    "x['x0'] = 1\n",
    "x = np.array(x)\n",
    "\n",
    "y = data_file.iloc[0:, 5:]\n",
    "y = np.array(y)\n",
    "\n",
    "n = len(x)\n",
    "\n",
    "def cost(x, params):\n",
    "    total_cost = 0\n",
    "    for i in range(n):\n",
    "        total_cost += (1/n) * ((x[i] * params).sum() - y[i])**2\n",
    "    return total_cost\n",
    "    \n",
    "\n",
    "def gradient_descent(x, params, learning_rate, epochs):\n",
    "    tcost = []\n",
    "    for i in range(epochs):\n",
    "        slopes = np.zeros(3)\n",
    "        for j in range(n):\n",
    "            for k in range(3):\n",
    "                slopes[k] += (1/n) * ((x[j] * params).sum() - y[j]) * x[j][k]\n",
    "\n",
    "        params = params - learning_rate * slopes\n",
    "\n",
    "        if epochs % 100 == 0:\n",
    "            tcost.append(cost(x, params))\n",
    "         \n",
    "\n",
    "    return params, tcost\n",
    "\n",
    "\n",
    "\n",
    "\n",
    "params = np.zeros(3)\n",
    "learning_rate = 0.000001\n",
    "epochs = 1000\n",
    "params, tcost = gradient_descent(x, params, learning_rate, epochs)\n",
    "#tcost = cost(x, params)\n",
    "print(\"the parameters of the hypothesis are : \" + str(params))\n",
    "pp.plot(tcost)\n",
    "pp.xlabel('iterations')\n",
    "pp.ylabel('TOTCHG')\n",
    "pp.show()"
   ]
  }
 ],
 "metadata": {
  "kernelspec": {
   "display_name": "Python 3 (ipykernel)",
   "language": "python",
   "name": "python3"
  },
  "language_info": {
   "codemirror_mode": {
    "name": "ipython",
    "version": 3
   },
   "file_extension": ".py",
   "mimetype": "text/x-python",
   "name": "python",
   "nbconvert_exporter": "python",
   "pygments_lexer": "ipython3",
   "version": "3.9.7"
  }
 },
 "nbformat": 4,
 "nbformat_minor": 5
}
